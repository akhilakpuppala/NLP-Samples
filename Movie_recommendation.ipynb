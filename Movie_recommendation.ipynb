{
 "cells": [
  {
   "cell_type": "code",
   "execution_count": 2,
   "metadata": {},
   "outputs": [
    {
     "name": "stderr",
     "output_type": "stream",
     "text": [
      "<ipython-input-2-0f694b8aed6e>:5: ParserWarning: Falling back to the 'python' engine because the 'c' engine does not support regex separators (separators > 1 char and different from '\\s+' are interpreted as regex); you can avoid this warning by specifying engine='python'.\n",
      "  movies = pd.read_csv('movies.dat',sep = '::',header = None,names = ['MovieID','Title','Genres'])\n",
      "<ipython-input-2-0f694b8aed6e>:9: ParserWarning: Falling back to the 'python' engine because the 'c' engine does not support regex separators (separators > 1 char and different from '\\s+' are interpreted as regex); you can avoid this warning by specifying engine='python'.\n",
      "  ratings = pd.read_csv('ratings.dat',sep = '::',header = None,names = ['UserID','MovieID','Rating','Timestamp'])\n"
     ]
    },
    {
     "name": "stdout",
     "output_type": "stream",
     "text": [
      "      MovieID                               Title  \\\n",
      "0           1                    Toy Story (1995)   \n",
      "1           2                      Jumanji (1995)   \n",
      "2           3             Grumpier Old Men (1995)   \n",
      "3           4            Waiting to Exhale (1995)   \n",
      "4           5  Father of the Bride Part II (1995)   \n",
      "...       ...                                 ...   \n",
      "3878     3948             Meet the Parents (2000)   \n",
      "3879     3949          Requiem for a Dream (2000)   \n",
      "3880     3950                    Tigerland (2000)   \n",
      "3881     3951             Two Family House (2000)   \n",
      "3882     3952               Contender, The (2000)   \n",
      "\n",
      "                            Genres  \n",
      "0      Animation|Children's|Comedy  \n",
      "1     Adventure|Children's|Fantasy  \n",
      "2                   Comedy|Romance  \n",
      "3                     Comedy|Drama  \n",
      "4                           Comedy  \n",
      "...                            ...  \n",
      "3878                        Comedy  \n",
      "3879                         Drama  \n",
      "3880                         Drama  \n",
      "3881                         Drama  \n",
      "3882                Drama|Thriller  \n",
      "\n",
      "[3883 rows x 3 columns]\n",
      "         UserID  MovieID  Rating  Timestamp\n",
      "0             1     1193       5  978300760\n",
      "1             1      661       3  978302109\n",
      "2             1      914       3  978301968\n",
      "3             1     3408       4  978300275\n",
      "4             1     2355       5  978824291\n",
      "...         ...      ...     ...        ...\n",
      "1000204    6040     1091       1  956716541\n",
      "1000205    6040     1094       5  956704887\n",
      "1000206    6040      562       5  956704746\n",
      "1000207    6040     1096       4  956715648\n",
      "1000208    6040     1097       4  956715569\n",
      "\n",
      "[1000209 rows x 4 columns]\n",
      "      UserID Gender  Age  Occupation Zip-code\n",
      "0          1      F    1          10    48067\n",
      "1          2      M   56          16    70072\n",
      "2          3      M   25          15    55117\n",
      "3          4      M   45           7    02460\n",
      "4          5      M   25          20    55455\n",
      "...      ...    ...  ...         ...      ...\n",
      "6035    6036      F   25          15    32603\n",
      "6036    6037      F   45           1    76006\n",
      "6037    6038      F   56           1    14706\n",
      "6038    6039      F   45           0    01060\n",
      "6039    6040      M   25           6    11106\n",
      "\n",
      "[6040 rows x 5 columns]\n"
     ]
    },
    {
     "name": "stderr",
     "output_type": "stream",
     "text": [
      "<ipython-input-2-0f694b8aed6e>:13: ParserWarning: Falling back to the 'python' engine because the 'c' engine does not support regex separators (separators > 1 char and different from '\\s+' are interpreted as regex); you can avoid this warning by specifying engine='python'.\n",
      "  users = pd.read_csv('users.dat',sep = '::',header = None,names = ['UserID','Gender','Age','Occupation','Zip-code'])\n"
     ]
    }
   ],
   "source": [
    "import pandas as pd\n",
    "import numpy as np\n",
    "import matplotlib.pyplot as plt\n",
    "\n",
    "movies = pd.read_csv('movies.dat',sep = '::',header = None,names = ['MovieID','Title','Genres'])\n",
    "print(movies)\n",
    "\n",
    "\n",
    "ratings = pd.read_csv('ratings.dat',sep = '::',header = None,names = ['UserID','MovieID','Rating','Timestamp'])\n",
    "print(ratings)\n",
    "\n",
    "\n",
    "users = pd.read_csv('users.dat',sep = '::',header = None,names = ['UserID','Gender','Age','Occupation','Zip-code'])\n",
    "\n",
    "print(users)"
   ]
  },
  {
   "cell_type": "code",
   "execution_count": 3,
   "metadata": {},
   "outputs": [
    {
     "data": {
      "text/plain": [
       "3952"
      ]
     },
     "execution_count": 3,
     "metadata": {},
     "output_type": "execute_result"
    }
   ],
   "source": [
    "ratings['MovieID'].max()"
   ]
  },
  {
   "cell_type": "code",
   "execution_count": 4,
   "metadata": {},
   "outputs": [],
   "source": [
    "ratings_mat = np.ndarray(shape=(np.max(ratings.MovieID.values), np.max(ratings.UserID.values)),dtype=np.uint8)\n",
    "ratings_mat[ratings.MovieID.values-1, ratings.UserID.values-1] = ratings.Rating.values\n",
    "\n",
    "normalised_mat = ratings_mat - np.asarray([(np.mean(ratings_mat, 1))]).T\n",
    "A = normalised_mat.T / np.sqrt(ratings_mat.shape[0] - 1)"
   ]
  },
  {
   "cell_type": "code",
   "execution_count": 34,
   "metadata": {},
   "outputs": [],
   "source": [
    "U, S, V = np.linalg.svd(A)"
   ]
  },
  {
   "cell_type": "code",
   "execution_count": 35,
   "metadata": {},
   "outputs": [
    {
     "data": {
      "text/plain": [
       "(3952, 3952)"
      ]
     },
     "execution_count": 35,
     "metadata": {},
     "output_type": "execute_result"
    }
   ],
   "source": [
    "V.T.shape"
   ]
  },
  {
   "cell_type": "code",
   "execution_count": 36,
   "metadata": {},
   "outputs": [],
   "source": [
    "from numpy.linalg import norm\n",
    "from sklearn.metrics.pairwise import cosine_similarity\n",
    "def top_cosine_similarity(data, movie_id, top_n=10):\n",
    "    index = movie_id - 1 # Movie id starts from 1 in the dataset\n",
    "    movie_row = data[index, :]\n",
    "    magnitude = np.sqrt(np.einsum('ij, ij -> i', data, data)) #array\n",
    "    similarity = np.dot(movie_row, data.T) / (magnitude[index] * magnitude) #array\n",
    "    sort_indexes = np.argsort(-similarity)\n",
    "    return sort_indexes[:top_n]\n",
    "\n",
    "def print_similar_movies(movie_data, movie_id, top_indexes):\n",
    "    print('Recommendations for {0}: \\n'.format(\n",
    "    movie_data[movie_data.MovieID == movie_id].Title.values[0]))\n",
    "    for id in top_indexes + 1:\n",
    "        print(movie_data[movie_data.MovieID == id].Title.values[0])\n",
    "        print(movie_data[movie_data.MovieID == id].Genres.values[0])"
   ]
  },
  {
   "cell_type": "code",
   "execution_count": 39,
   "metadata": {},
   "outputs": [
    {
     "name": "stderr",
     "output_type": "stream",
     "text": [
      "<ipython-input-36-a64d5391929f>:7: RuntimeWarning: invalid value encountered in true_divide\n",
      "  similarity = np.dot(movie_row, data.T) / (magnitude[index] * magnitude) #array\n"
     ]
    },
    {
     "data": {
      "text/plain": [
       "array([   0, 3113,   33, 2354, 2320, 2383,  587, 3156,  530, 2686])"
      ]
     },
     "execution_count": 39,
     "metadata": {},
     "output_type": "execute_result"
    }
   ],
   "source": [
    "k = 50\n",
    "MovieID = 1 # (getting an id from movies.dat)\n",
    "top_n = 10\n",
    "sliced = V.T[:, :k] # representative data\n",
    "indexes = top_cosine_similarity(sliced, MovieID, top_n)\n",
    "indexes"
   ]
  },
  {
   "cell_type": "code",
   "execution_count": 40,
   "metadata": {},
   "outputs": [
    {
     "data": {
      "text/plain": [
       "(3952, 50)"
      ]
     },
     "execution_count": 40,
     "metadata": {},
     "output_type": "execute_result"
    }
   ],
   "source": [
    "sliced.shape"
   ]
  },
  {
   "cell_type": "code",
   "execution_count": 41,
   "metadata": {},
   "outputs": [
    {
     "name": "stdout",
     "output_type": "stream",
     "text": [
      "Recommendations for Toy Story (1995): \n",
      "\n",
      "Toy Story (1995)\n",
      "Animation|Children's|Comedy\n",
      "Toy Story 2 (1999)\n",
      "Animation|Children's|Comedy\n",
      "Babe (1995)\n",
      "Children's|Comedy|Drama\n",
      "Bug's Life, A (1998)\n",
      "Animation|Children's|Comedy\n",
      "Pleasantville (1998)\n",
      "Comedy\n",
      "Babe: Pig in the City (1998)\n",
      "Children's|Comedy\n",
      "Aladdin (1992)\n",
      "Animation|Children's|Comedy|Musical\n",
      "Stuart Little (1999)\n",
      "Children's|Comedy\n",
      "Secret Garden, The (1993)\n",
      "Children's|Drama\n",
      "Tarzan (1999)\n",
      "Animation|Children's\n"
     ]
    }
   ],
   "source": [
    "#movie recommendations using SVD generated vectors\n",
    "print_similar_movies(movies, MovieID, indexes)"
   ]
  },
  {
   "cell_type": "code",
   "execution_count": null,
   "metadata": {},
   "outputs": [],
   "source": []
  },
  {
   "cell_type": "code",
   "execution_count": 18,
   "metadata": {},
   "outputs": [
    {
     "data": {
      "text/plain": [
       "(3952, 6040)"
      ]
     },
     "execution_count": 18,
     "metadata": {},
     "output_type": "execute_result"
    }
   ],
   "source": [
    "ratings_mat.shape"
   ]
  },
  {
   "cell_type": "code",
   "execution_count": 19,
   "metadata": {},
   "outputs": [],
   "source": [
    "norm = np.linalg.norm(ratings_mat)\n",
    "normal_array = ratings_mat/norm"
   ]
  },
  {
   "cell_type": "code",
   "execution_count": 21,
   "metadata": {},
   "outputs": [],
   "source": [
    "from numpy import mean\n",
    "from numpy import cov\n",
    "from numpy.linalg import eig\n",
    "from numpy import array\n",
    "\n",
    "# calculate covariance matrix of normalized matrix\n",
    "V = cov(normal_array)\n",
    "# eigendecomposition of covariance matrix\n",
    "values, vectors = eig(V)"
   ]
  },
  {
   "cell_type": "code",
   "execution_count": 22,
   "metadata": {},
   "outputs": [
    {
     "data": {
      "text/plain": [
       "(3952, 3952)"
      ]
     },
     "execution_count": 22,
     "metadata": {},
     "output_type": "execute_result"
    }
   ],
   "source": [
    "vectors.shape"
   ]
  },
  {
   "cell_type": "code",
   "execution_count": 42,
   "metadata": {},
   "outputs": [
    {
     "name": "stderr",
     "output_type": "stream",
     "text": [
      "<ipython-input-36-a64d5391929f>:7: RuntimeWarning: invalid value encountered in true_divide\n",
      "  similarity = np.dot(movie_row, data.T) / (magnitude[index] * magnitude) #array\n"
     ]
    },
    {
     "data": {
      "text/plain": [
       "array([   0, 3113,   33, 2354, 2320, 2383,  587, 3156,  530, 2686])"
      ]
     },
     "execution_count": 42,
     "metadata": {},
     "output_type": "execute_result"
    }
   ],
   "source": [
    "k = 50\n",
    "MovieID = 1 # (getting an id from movies)\n",
    "top_n = 10\n",
    "sliced = vectors[:, :k]\n",
    "indexes = top_cosine_similarity(sliced, MovieID, top_n)\n",
    "indexes"
   ]
  },
  {
   "cell_type": "code",
   "execution_count": 43,
   "metadata": {},
   "outputs": [
    {
     "name": "stdout",
     "output_type": "stream",
     "text": [
      "Recommendations for Toy Story (1995): \n",
      "\n",
      "Toy Story (1995)\n",
      "Animation|Children's|Comedy\n",
      "Toy Story 2 (1999)\n",
      "Animation|Children's|Comedy\n",
      "Babe (1995)\n",
      "Children's|Comedy|Drama\n",
      "Bug's Life, A (1998)\n",
      "Animation|Children's|Comedy\n",
      "Pleasantville (1998)\n",
      "Comedy\n",
      "Babe: Pig in the City (1998)\n",
      "Children's|Comedy\n",
      "Aladdin (1992)\n",
      "Animation|Children's|Comedy|Musical\n",
      "Stuart Little (1999)\n",
      "Children's|Comedy\n",
      "Secret Garden, The (1993)\n",
      "Children's|Drama\n",
      "Tarzan (1999)\n",
      "Animation|Children's\n"
     ]
    }
   ],
   "source": [
    "#movie recommendations using PCA eigen vectors\n",
    "print_similar_movies(movies, MovieID, indexes)"
   ]
  },
  {
   "cell_type": "markdown",
   "metadata": {},
   "source": [
    "Singular value decomposition (SVD) and principal component analysis (PCA) are two eigenvalue methods used to reduce a high-dimensional data set into fewer dimensions while retaining important information.\n",
    "\n",
    "PCA: If your features are least sensitive (informative) towards the mean of the distribution, then it makes sense to subtract the mean. If the features are most sensitive towards the high values, then subtracting the mean does not make sense.\n",
    "\n",
    "SVD: it does not subtract the means but often as a first step projects the data on the mean of all data points\n",
    "\n",
    "conclusion:\n",
    "movie recommendation system developed using both PCA and SVD gave same results"
   ]
  },
  {
   "cell_type": "code",
   "execution_count": null,
   "metadata": {},
   "outputs": [],
   "source": []
  }
 ],
 "metadata": {
  "kernelspec": {
   "display_name": "Python 3",
   "language": "python",
   "name": "python3"
  },
  "language_info": {
   "codemirror_mode": {
    "name": "ipython",
    "version": 3
   },
   "file_extension": ".py",
   "mimetype": "text/x-python",
   "name": "python",
   "nbconvert_exporter": "python",
   "pygments_lexer": "ipython3",
   "version": "3.8.5"
  }
 },
 "nbformat": 4,
 "nbformat_minor": 4
}
